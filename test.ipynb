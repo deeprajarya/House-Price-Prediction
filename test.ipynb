{
 "cells": [
  {
   "cell_type": "markdown",
   "metadata": {},
   "source": [
    "## Question 1 :"
   ]
  },
  {
   "cell_type": "code",
   "execution_count": 1,
   "metadata": {},
   "outputs": [
    {
     "name": "stdout",
     "output_type": "stream",
     "text": [
      "True\n"
     ]
    }
   ],
   "source": [
    "def searchMatrix(matrix, target):\n",
    "    if not matrix or not matrix[0]:\n",
    "        return False\n",
    "\n",
    "    rows, cols = len(matrix), len(matrix[0])\n",
    "    left, right = 0, rows * cols - 1\n",
    "\n",
    "    while left <= right:\n",
    "        mid = (left + right) // 2\n",
    "        mid_element = matrix[mid // cols][mid % cols]\n",
    "\n",
    "        if mid_element == target:\n",
    "            return True\n",
    "        elif mid_element < target:\n",
    "            left = mid + 1\n",
    "        else:\n",
    "            right = mid - 1\n",
    "\n",
    "    return False\n",
    "\n",
    "# Example usage:\n",
    "matrix = [[1, 3, 5, 7], [10, 11, 16, 20], [23, 30, 34, 60]]\n",
    "target = 3\n",
    "result = searchMatrix(matrix, target)\n",
    "print(result) "
   ]
  },
  {
   "cell_type": "markdown",
   "metadata": {},
   "source": [
    "## Question 2 :"
   ]
  },
  {
   "cell_type": "code",
   "execution_count": 10,
   "metadata": {},
   "outputs": [
    {
     "name": "stdout",
     "output_type": "stream",
     "text": [
      "5\n",
      "6\n",
      "11\n"
     ]
    }
   ],
   "source": [
    "def highest_frequency_word_length(input_string):\n",
    "    words = input_string.lower().split()\n",
    "    word_counts = {}\n",
    "\n",
    "    for word in words:\n",
    "        word_counts[word] = word_counts.get(word, 0) + 1\n",
    "\n",
    "    if not word_counts:\n",
    "        return 0\n",
    "\n",
    "    max_frequency = max(word_counts.values())\n",
    "    max_frequency_words = [word for word, freq in word_counts.items() if freq == max_frequency]\n",
    "    max_length = max(len(word) for word in max_frequency_words)\n",
    "\n",
    "    return max_length\n",
    "\n",
    "# Example 1:\n",
    "example_input_1 = \"write write write all the number from from from 1 to 100\"\n",
    "output_1 = highest_frequency_word_length(example_input_1)\n",
    "print(output_1) \n",
    "\n",
    "# Example 2:\n",
    "example_input_2= \"python Python is easy Python is powerful python\"\n",
    "output_2 = highest_frequency_word_length(example_input_2)\n",
    "print(output_2)\n",
    "\n",
    "# Example 3 :\n",
    "example_input_3= \"programming is fun programming is exciting programming is creative\"\n",
    "output_3 = highest_frequency_word_length(example_input_3)\n",
    "print(output_3)"
   ]
  },
  {
   "cell_type": "markdown",
   "metadata": {},
   "source": [
    "Explanation -----\n",
    "\n",
    "example 2 :-----\n",
    "In this example 3, the word \"python\" appears four times in the input string. It has the highest frequency. The length of \"python\" is 6 characters, which is the longest among the words with the highest frequency. Therefore, the output is 6.\n",
    "\n",
    "example 3 :-----\n",
    "In this example 3, the word \"programming\" appears three times in the input string, which is the highest frequency. The length of \"programming\" is 11 characters, making it the longest word among those with the highest frequency. Therefore, the output is 11."
   ]
  },
  {
   "cell_type": "markdown",
   "metadata": {},
   "source": [
    "## Question 3 :"
   ]
  },
  {
   "cell_type": "code",
   "execution_count": null,
   "metadata": {},
   "outputs": [],
   "source": []
  },
  {
   "cell_type": "code",
   "execution_count": null,
   "metadata": {},
   "outputs": [],
   "source": []
  }
 ],
 "metadata": {
  "kernelspec": {
   "display_name": "Python 3",
   "language": "python",
   "name": "python3"
  },
  "language_info": {
   "codemirror_mode": {
    "name": "ipython",
    "version": 3
   },
   "file_extension": ".py",
   "mimetype": "text/x-python",
   "name": "python",
   "nbconvert_exporter": "python",
   "pygments_lexer": "ipython3",
   "version": "3.8.18"
  }
 },
 "nbformat": 4,
 "nbformat_minor": 2
}
